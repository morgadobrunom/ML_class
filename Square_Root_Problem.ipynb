{
 "cells": [
  {
   "cell_type": "code",
   "execution_count": 2,
   "metadata": {
    "colab": {
     "base_uri": "https://localhost:8080/"
    },
    "id": "h5jDppFjLd5x",
    "outputId": "1759201f-5c6f-4362-ca79-0747e3322f4b"
   },
   "outputs": [
    {
     "name": "stdout",
     "output_type": "stream",
     "text": [
      "Model: \"sequential_1\"\n",
      "_________________________________________________________________\n",
      " Layer (type)                Output Shape              Param #   \n",
      "=================================================================\n",
      " dense_4 (Dense)             (None, 6)                 12        \n",
      "                                                                 \n",
      " dense_5 (Dense)             (None, 6)                 42        \n",
      "                                                                 \n",
      " dense_6 (Dense)             (None, 6)                 42        \n",
      "                                                                 \n",
      " dense_7 (Dense)             (None, 1)                 7         \n",
      "                                                                 \n",
      "=================================================================\n",
      "Total params: 103\n",
      "Trainable params: 103\n",
      "Non-trainable params: 0\n",
      "_________________________________________________________________\n",
      "1/1 [==============================] - 0s 52ms/step\n",
      "[1.0] => 1.04 (expected 1.00)\n",
      "[4.0] => 1.93 (expected 2.00)\n",
      "[9.0] => 3.02 (expected 3.00)\n",
      "[16.0] => 4.40 (expected 4.00)\n",
      "[25.0] => 5.03 (expected 5.00)\n",
      "[36.0] => 5.81 (expected 6.00)\n",
      "[49.0] => 6.72 (expected 7.00)\n",
      "[64.0] => 7.77 (expected 8.00)\n",
      "[81.0] => 8.97 (expected 9.00)\n",
      "[100.0] => 10.31 (expected 10.00)\n"
     ]
    }
   ],
   "source": [
    "import tensorflow as tf\n",
    "from numpy import loadtxt\n",
    "from keras.models import Sequential\n",
    "from keras.layers import Dense\n",
    "from keras import optimizers\n",
    "from tensorflow.python.keras.optimizers import *\n",
    "import numpy as np\n",
    "\n",
    "\n",
    "#Load dataset\n",
    "#split into input (X) and output (y)\n",
    "X = np.array([[1], [4], [9], [16], [25], [36], [49], [64], [81], [100]])\n",
    "X = X*1.0\n",
    "y = np.array([[1], [2], [3], [4], [5], [6], [7], [8], [9], [10]])\n",
    "y = y*1.0\n",
    "\n",
    "#define keras model\n",
    "model = Sequential()\n",
    "\n",
    "model.add(Dense(6,input_dim=1,activation='relu'))\n",
    "model.add(Dense(6,activation='relu'))\n",
    "model.add(Dense(6,activation='relu'))\n",
    "model.add(Dense(1))\n",
    "\n",
    "#compile the keras model\n",
    "opt = optimizers.Adam(learning_rate=0.001)\n",
    "mse = tf.keras.losses.MeanSquaredError(\n",
    "    reduction=tf.keras.losses.Reduction.SUM)\n",
    "model.compile(loss=mse, optimizer=opt)\n",
    "\n",
    "\n",
    "\n",
    "#fit the keras model on the dataset (CPU)\n",
    "model.fit(X,y,epochs=2000,batch_size=10, verbose=0)\n",
    "model.summary()\n",
    "\n",
    "#make class predictions with the model\n",
    "predictions = model.predict(X)\n",
    "\n",
    "#summarize the first 10 cases\n",
    "for i in range(10):\n",
    "    print('%s => %.2f (expected %.2f)' %(X[i].tolist(), predictions[i], y[i]) )"
   ]
  },
  {
   "cell_type": "code",
   "execution_count": 3,
   "metadata": {
    "colab": {
     "base_uri": "https://localhost:8080/",
     "height": 314
    },
    "id": "n1CIXUlPjkct",
    "outputId": "904841e6-dbb7-4860-d8ec-517d1f5d397c"
   },
   "outputs": [
    {
     "name": "stdout",
     "output_type": "stream",
     "text": [
      "4/4 [==============================] - 0s 2ms/step\n"
     ]
    },
    {
     "data": {
      "text/plain": [
       "<matplotlib.legend.Legend at 0x7f990b21dfd0>"
      ]
     },
     "execution_count": 3,
     "metadata": {},
     "output_type": "execute_result"
    },
    {
     "data": {
      "image/png": "[encoded data removed]",
      "text/plain": [
       "<Figure size 432x288 with 1 Axes>"
      ]
     },
     "metadata": {
      "needs_background": "light"
     },
     "output_type": "display_data"
    }
   ],
   "source": [
    "import matplotlib.pyplot as plt\n",
    "number_grid = np.linspace(1, 100, 100)\n",
    "plt.scatter(X,y, label='data')\n",
    "plt.plot(number_grid,model.predict(np.expand_dims(number_grid,axis=1)) , color='red', label='model')\n",
    "plt.xlabel('number')\n",
    "plt.ylabel('square root')\n",
    "plt.legend()"
   ]
  },
  {
   "cell_type": "code",
   "execution_count": null,
   "metadata": {},
   "outputs": [],
   "source": []
  }
 ],
 "metadata": {
  "colab": {
   "provenance": []
  },
  "kernelspec": {
   "display_name": "Python 3 (ipykernel)",
   "language": "python",
   "name": "python3"
  },
  "language_info": {
   "codemirror_mode": {
    "name": "ipython",
    "version": 3
   },
   "file_extension": ".py",
   "mimetype": "text/x-python",
   "name": "python",
   "nbconvert_exporter": "python",
   "pygments_lexer": "ipython3",
   "version": "3.8.8"
  }
 },
 "nbformat": 4,
 "nbformat_minor": 1
}
